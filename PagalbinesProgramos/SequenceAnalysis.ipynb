{
  "cells": [
    {
      "cell_type": "markdown",
      "metadata": {
        "id": "wSWvSMw_Gg6O"
      },
      "source": [
        "# Global settings"
      ]
    },
    {
      "cell_type": "code",
      "execution_count": 19,
      "metadata": {
        "cellView": "form",
        "id": "nXQHy5vDGe96"
      },
      "outputs": [],
      "source": [
        "testCaseName = 'case1' #@param {type:\"string\"}\n",
        "parameterSize = 136 #@param {type:\"number\"}\n",
        "\n",
        "penalty_notEqual = -2 #@param {type:\"number\"}\n",
        "penalty_space = -8 #@param {type:\"number\"}\n",
        "\n",
        "sequences_size_const = 300 #@param {type:\"number\"}\n",
        "\n",
        "load_data_file = False #@param {type: \"boolean\"}\n",
        "dataFileConfigName = '' #@param {type: \"string\"}"
      ]
    },
    {
      "cell_type": "code",
      "execution_count": 2,
      "metadata": {
        "id": "TvjmAQ9KIQa0"
      },
      "outputs": [],
      "source": [
        "hydrophobic = dict({\n",
        "    \"K\": 5.72,\n",
        "    \"N\": 6.17,\n",
        "    \"D\": 6.18,\n",
        "    \"E\": 6.38,\n",
        "    \"P\": 6.64,\n",
        "    \"Q\": 6.67,\n",
        "    \"R\": 6.81,\n",
        "    \"S\": 6.93,\n",
        "    \"T\": 7.08,\n",
        "    \"G\": 7.31,\n",
        "    \"A\": 7.62,\n",
        "    \"H\": 7.85,\n",
        "    \"W\": 8.41,\n",
        "    \"Y\": 8.53,\n",
        "    \"F\": 8.99,\n",
        "    \"L\": 9.37,\n",
        "    \"M\": 9.83,\n",
        "    \"I\": 9.99,\n",
        "    \"V\": 10.38,\n",
        "    \"C\": 10.93,\n",
        "    \"-\": 0,\n",
        "    \"X\": 0\n",
        "})"
      ]
    },
    {
      "cell_type": "code",
      "execution_count": 3,
      "metadata": {
        "colab": {
          "base_uri": "https://localhost:8080/"
        },
        "id": "v9aYll9J_iHU",
        "outputId": "c765c3a1-8ea9-440b-961e-3d8ec0f18996"
      },
      "outputs": [
        {
          "output_type": "stream",
          "name": "stdout",
          "text": [
            "Cloning into 'ProteinFolding'...\n",
            "remote: Enumerating objects: 35, done.\u001b[K\n",
            "remote: Counting objects: 100% (35/35), done.\u001b[K\n",
            "remote: Compressing objects: 100% (28/28), done.\u001b[K\n",
            "remote: Total 35 (delta 6), reused 30 (delta 4), pack-reused 0\u001b[K\n",
            "Unpacking objects: 100% (35/35), done.\n"
          ]
        }
      ],
      "source": [
        "!git clone https://github.com/PauliusMilmantas/ProteinFolding"
      ]
    },
    {
      "cell_type": "code",
      "execution_count": 4,
      "metadata": {
        "colab": {
          "base_uri": "https://localhost:8080/"
        },
        "id": "T0jWhRezANmm",
        "outputId": "478fc2bd-bd17-40f7-9557-0c8de4f37366"
      },
      "outputs": [
        {
          "output_type": "stream",
          "name": "stdout",
          "text": [
            "Looking in indexes: https://pypi.org/simple, https://us-python.pkg.dev/colab-wheels/public/simple/\n",
            "Collecting Bio\n",
            "  Downloading bio-1.5.3-py3-none-any.whl (272 kB)\n",
            "\u001b[2K     \u001b[90m━━━━━━━━━━━━━━━━━━━━━━━━━━━━━━━━━━━━━━━\u001b[0m \u001b[32m272.6/272.6 KB\u001b[0m \u001b[31m6.1 MB/s\u001b[0m eta \u001b[36m0:00:00\u001b[0m\n",
            "\u001b[?25hCollecting biopython>=1.80\n",
            "  Downloading biopython-1.80-cp38-cp38-manylinux_2_17_x86_64.manylinux2014_x86_64.whl (3.1 MB)\n",
            "\u001b[2K     \u001b[90m━━━━━━━━━━━━━━━━━━━━━━━━━━━━━━━━━━━━━━━━\u001b[0m \u001b[32m3.1/3.1 MB\u001b[0m \u001b[31m52.4 MB/s\u001b[0m eta \u001b[36m0:00:00\u001b[0m\n",
            "\u001b[?25hCollecting mygene\n",
            "  Downloading mygene-3.2.2-py2.py3-none-any.whl (5.4 kB)\n",
            "Requirement already satisfied: requests in /usr/local/lib/python3.8/dist-packages (from Bio) (2.25.1)\n",
            "Requirement already satisfied: tqdm in /usr/local/lib/python3.8/dist-packages (from Bio) (4.64.1)\n",
            "Requirement already satisfied: numpy in /usr/local/lib/python3.8/dist-packages (from biopython>=1.80->Bio) (1.21.6)\n",
            "Collecting biothings-client>=0.2.6\n",
            "  Downloading biothings_client-0.2.6-py2.py3-none-any.whl (37 kB)\n",
            "Requirement already satisfied: chardet<5,>=3.0.2 in /usr/local/lib/python3.8/dist-packages (from requests->Bio) (4.0.0)\n",
            "Requirement already satisfied: urllib3<1.27,>=1.21.1 in /usr/local/lib/python3.8/dist-packages (from requests->Bio) (1.24.3)\n",
            "Requirement already satisfied: idna<3,>=2.5 in /usr/local/lib/python3.8/dist-packages (from requests->Bio) (2.10)\n",
            "Requirement already satisfied: certifi>=2017.4.17 in /usr/local/lib/python3.8/dist-packages (from requests->Bio) (2022.12.7)\n",
            "Installing collected packages: biopython, biothings-client, mygene, Bio\n",
            "Successfully installed Bio-1.5.3 biopython-1.80 biothings-client-0.2.6 mygene-3.2.2\n"
          ]
        }
      ],
      "source": [
        "!pip install Bio"
      ]
    },
    {
      "cell_type": "code",
      "execution_count": 5,
      "metadata": {
        "id": "41vCkRyyHnhm",
        "colab": {
          "base_uri": "https://localhost:8080/"
        },
        "outputId": "1a8d4d60-61de-45ed-c776-0dbe535c2686"
      },
      "outputs": [
        {
          "output_type": "stream",
          "name": "stderr",
          "text": [
            "/usr/local/lib/python3.8/dist-packages/Bio/pairwise2.py:278: BiopythonDeprecationWarning: Bio.pairwise2 has been deprecated, and we intend to remove it in a future release of Biopython. As an alternative, please consider using Bio.Align.PairwiseAligner as a replacement, and contact the Biopython developers if you still need the Bio.pairwise2 module.\n",
            "  warnings.warn(\n"
          ]
        }
      ],
      "source": [
        "from google.colab import files\n",
        "import numpy as np\n",
        "from Bio.pairwise2 import format_alignment\n",
        "from Bio import pairwise2\n",
        "import re\n",
        "import time"
      ]
    },
    {
      "cell_type": "code",
      "execution_count": 6,
      "metadata": {
        "id": "jxrNbAa3Ixnr"
      },
      "outputs": [],
      "source": [
        "from configparser import ConfigParser\n",
        "\n",
        "config = ConfigParser()\n",
        "\n",
        "config.read('/content/ProteinFolding/config.ini')\n",
        "dtwPath = config.get('testCases', 'dtw1')"
      ]
    },
    {
      "cell_type": "markdown",
      "metadata": {
        "id": "tC3LbvR3Hrft"
      },
      "source": [
        "# Parse MSA file"
      ]
    },
    {
      "cell_type": "code",
      "execution_count": 7,
      "metadata": {
        "id": "FZQCQpeRIeUs"
      },
      "outputs": [],
      "source": [
        "def transformHydro(seq):\n",
        "  sum = 0\n",
        "  for el in seq:\n",
        "    try:\n",
        "      sum += float(hydrophobic.get(el.upper()))\n",
        "    except:\n",
        "      raise Exception('While calculating hydrophobic value, could not parse: \"{}\"'.format(el))\n",
        "\n",
        "  return round(sum, 2)\n",
        "\n",
        "def displaySequences(sequences):\n",
        "  # Printing first 5 sequences for testing\n",
        "  for i in range(10):\n",
        "    print('-------------------')\n",
        "    print('Printing sequence no. {}'.format(i + 1))\n",
        "    print(sequences[i])"
      ]
    },
    {
      "cell_type": "code",
      "execution_count": 8,
      "metadata": {
        "id": "2VvRFw9SHp1V"
      },
      "outputs": [],
      "source": [
        "class MsaRow:\n",
        "  def __init__(self, name, seq):\n",
        "    self.name = name # Sequence identifier\n",
        "    self.seq = seq # Sequence itself\n",
        "    self.distance = -1 # Distance compared other sequences (For filtering only specified amount of sequences)\n",
        "    self.transformedSeq = '' # Dynamic time warping transformation seq\n",
        "\n",
        "    # Transformation functions\n",
        "    self.hydrophobicValue = transformHydro(seq) # Hydrophobic transformation\n",
        "\n",
        "  def __str__(self):\n",
        "    return \"Identifier: {}\\nSequence: {}\\nSequence length: {}\\nHyprophobic value: {}\".format(self.name, self.seq, len(self.seq), self.hydrophobicValue)"
      ]
    },
    {
      "cell_type": "code",
      "execution_count": 11,
      "metadata": {
        "colab": {
          "base_uri": "https://localhost:8080/"
        },
        "id": "vqdFDp8SIqF5",
        "outputId": "30d28dfa-af42-4283-9a6b-82953050b563"
      },
      "outputs": [
        {
          "output_type": "stream",
          "name": "stdout",
          "text": [
            "Reading a3m file from: /content/ProteinFolding/TestCases/test_fb11f.a3m\n",
            "429 sequences were loaded.\n"
          ]
        }
      ],
      "source": [
        "testCase = '/content/ProteinFolding/' + config.get('testCases', testCaseName)\n",
        "print('Reading a3m file from: {}'.format(testCase))\n",
        "\n",
        "sequences = []\n",
        "with open(testCase) as file:\n",
        "  fileHeader = file.readline()\n",
        "\n",
        "  for line in file:\n",
        "    # Sequence identifier\n",
        "    if line[0] == '>':\n",
        "      seqIdentifier = line.rstrip()\n",
        "    else:\n",
        "      # Sequence itself\n",
        "      seqValue = line.rstrip()\n",
        "\n",
        "      if seqIdentifier is None:\n",
        "        # Trying to create a sequence object, but only value is available,\n",
        "        # which means sequence names might be misaligned\n",
        "        raise Exception('Wrong file format.')\n",
        "\n",
        "      msa = MsaRow(seqIdentifier, seqValue)\n",
        "      sequences.append(msa)\n",
        "\n",
        "      # Reseting seq identifier for later check of sequence misalignment\n",
        "      seqIdentifier = None\n",
        "\n",
        "print(\"{} sequences were loaded.\".format(len(sequences)))"
      ]
    },
    {
      "cell_type": "code",
      "execution_count": null,
      "metadata": {
        "id": "OemsBYJgDkN4"
      },
      "outputs": [],
      "source": [
        "# displaySequences(sequences)"
      ]
    },
    {
      "cell_type": "markdown",
      "metadata": {
        "id": "6nQ5iGfqF_3G"
      },
      "source": [
        "# Calculating/loading distance matrix"
      ]
    },
    {
      "cell_type": "code",
      "execution_count": 12,
      "metadata": {
        "colab": {
          "base_uri": "https://localhost:8080/"
        },
        "id": "CsV1He5IGGjo",
        "outputId": "307e9523-bdbf-4a16-993d-11304b3244bf"
      },
      "outputs": [
        {
          "output_type": "stream",
          "name": "stdout",
          "text": [
            "Calculating distance matrix...\n",
            "0.23%, Time left: 4.0m 19.0s\n",
            "0.47%, Time left: 4.0m 17.0s\n",
            "0.7%, Time left: 4.0m 26.0s\n",
            "0.93%, Time left: 4.0m 21.0s\n",
            "1.17%, Time left: 4.0m 23.0s\n",
            "1.4%, Time left: 4.0m 27.0s\n",
            "1.63%, Time left: 4.0m 30.0s\n",
            "1.86%, Time left: 4.0m 29.0s\n",
            "2.1%, Time left: 4.0m 16.0s\n",
            "2.33%, Time left: 4.0m 36.0s\n",
            "2.56%, Time left: 4.0m 50.0s\n",
            "2.8%, Time left: 4.0m 21.0s\n",
            "3.03%, Time left: 4.0m 21.0s\n",
            "3.26%, Time left: 4.0m 20.0s\n",
            "3.5%, Time left: 4.0m 27.0s\n",
            "3.73%, Time left: 4.0m 16.0s\n",
            "3.96%, Time left: 4.0m 18.0s\n",
            "4.2%, Time left: 4.0m 1.0s\n",
            "4.43%, Time left: 4.0m 30.0s\n",
            "4.66%, Time left: 4.0m 12.0s\n",
            "4.9%, Time left: 4.0m 6.0s\n",
            "5.13%, Time left: 4.0m 6.0s\n",
            "5.36%, Time left: 4.0m 14.0s\n",
            "5.59%, Time left: 4.0m 9.0s\n",
            "5.83%, Time left: 4.0m 2.0s\n",
            "6.06%, Time left: 4.0m 14.0s\n",
            "6.29%, Time left: 4.0m 30.0s\n",
            "6.53%, Time left: 4.0m 3.0s\n",
            "6.76%, Time left: 4.0m 7.0s\n",
            "6.99%, Time left: 4.0m 2.0s\n",
            "7.23%, Time left: 3.0m 59.0s\n",
            "7.46%, Time left: 4.0m 17.0s\n",
            "7.69%, Time left: 4.0m 34.0s\n",
            "7.93%, Time left: 4.0m 12.0s\n",
            "8.16%, Time left: 14.0m 26.0s\n",
            "8.39%, Time left: 4.0m 12.0s\n",
            "8.62%, Time left: 4.0m 24.0s\n",
            "8.86%, Time left: 4.0m 4.0s\n",
            "9.09%, Time left: 4.0m 17.0s\n",
            "9.32%, Time left: 4.0m 19.0s\n",
            "9.56%, Time left: 4.0m 8.0s\n",
            "9.79%, Time left: 4.0m 15.0s\n",
            "10.02%, Time left: 3.0m 56.0s\n",
            "10.26%, Time left: 3.0m 42.0s\n",
            "10.49%, Time left: 3.0m 58.0s\n",
            "10.72%, Time left: 3.0m 60.0s\n",
            "10.96%, Time left: 3.0m 41.0s\n",
            "11.19%, Time left: 3.0m 55.0s\n",
            "11.42%, Time left: 4.0m 18.0s\n",
            "11.66%, Time left: 3.0m 48.0s\n",
            "11.89%, Time left: 3.0m 56.0s\n",
            "12.12%, Time left: 3.0m 49.0s\n",
            "12.35%, Time left: 3.0m 58.0s\n",
            "12.59%, Time left: 3.0m 45.0s\n",
            "12.82%, Time left: 4.0m 10.0s\n",
            "13.05%, Time left: 3.0m 54.0s\n",
            "13.29%, Time left: 3.0m 43.0s\n",
            "13.52%, Time left: 4.0m 9.0s\n",
            "13.75%, Time left: 4.0m 4.0s\n",
            "13.99%, Time left: 3.0m 50.0s\n",
            "14.22%, Time left: 3.0m 54.0s\n",
            "14.45%, Time left: 4.0m 35.0s\n",
            "14.69%, Time left: 3.0m 58.0s\n",
            "14.92%, Time left: 3.0m 57.0s\n",
            "15.15%, Time left: 4.0m 1.0s\n",
            "15.38%, Time left: 3.0m 55.0s\n",
            "15.62%, Time left: 3.0m 54.0s\n",
            "15.85%, Time left: 4.0m 2.0s\n",
            "16.08%, Time left: 3.0m 44.0s\n",
            "16.32%, Time left: 3.0m 38.0s\n",
            "16.55%, Time left: 3.0m 44.0s\n",
            "16.78%, Time left: 42.0m 45.0s\n",
            "17.02%, Time left: 3.0m 35.0s\n",
            "17.25%, Time left: 3.0m 56.0s\n",
            "17.48%, Time left: 4.0m 15.0s\n",
            "17.72%, Time left: 3.0m 58.0s\n",
            "17.95%, Time left: 4.0m 17.0s\n",
            "18.18%, Time left: 4.0m 7.0s\n",
            "18.41%, Time left: 4.0m 16.0s\n",
            "18.65%, Time left: 3.0m 46.0s\n",
            "18.88%, Time left: 3.0m 48.0s\n",
            "19.11%, Time left: 3.0m 50.0s\n",
            "19.35%, Time left: 3.0m 37.0s\n",
            "19.58%, Time left: 3.0m 46.0s\n",
            "19.81%, Time left: 3.0m 57.0s\n",
            "20.05%, Time left: 4.0m 15.0s\n",
            "20.28%, Time left: 5.0m 59.0s\n",
            "20.51%, Time left: 6.0m 21.0s\n",
            "20.75%, Time left: 4.0m 32.0s\n",
            "20.98%, Time left: 3.0m 44.0s\n",
            "21.21%, Time left: 3.0m 45.0s\n",
            "21.45%, Time left: 3.0m 23.0s\n",
            "21.68%, Time left: 3.0m 33.0s\n",
            "21.91%, Time left: 3.0m 31.0s\n",
            "22.14%, Time left: 3.0m 37.0s\n",
            "22.38%, Time left: 3.0m 16.0s\n",
            "22.61%, Time left: 3.0m 33.0s\n",
            "22.84%, Time left: 3.0m 40.0s\n",
            "23.08%, Time left: 3.0m 26.0s\n",
            "23.31%, Time left: 3.0m 29.0s\n",
            "23.54%, Time left: 3.0m 32.0s\n",
            "23.78%, Time left: 3.0m 35.0s\n",
            "24.01%, Time left: 3.0m 41.0s\n",
            "24.24%, Time left: 3.0m 48.0s\n",
            "24.48%, Time left: 3.0m 30.0s\n",
            "24.71%, Time left: 3.0m 43.0s\n",
            "24.94%, Time left: 3.0m 38.0s\n",
            "25.17%, Time left: 3.0m 29.0s\n",
            "25.41%, Time left: 3.0m 34.0s\n",
            "25.64%, Time left: 3.0m 35.0s\n",
            "25.87%, Time left: 3.0m 38.0s\n",
            "26.11%, Time left: 3.0m 20.0s\n",
            "26.34%, Time left: 3.0m 28.0s\n",
            "26.57%, Time left: 3.0m 21.0s\n",
            "26.81%, Time left: 3.0m 25.0s\n",
            "27.04%, Time left: 3.0m 27.0s\n",
            "27.27%, Time left: 3.0m 21.0s\n",
            "27.51%, Time left: 3.0m 14.0s\n",
            "27.74%, Time left: 3.0m 16.0s\n",
            "27.97%, Time left: 3.0m 23.0s\n",
            "28.21%, Time left: 3.0m 14.0s\n",
            "28.44%, Time left: 3.0m 15.0s\n",
            "28.67%, Time left: 3.0m 22.0s\n",
            "28.9%, Time left: 3.0m 32.0s\n",
            "29.14%, Time left: 3.0m 8.0s\n",
            "29.37%, Time left: 3.0m 31.0s\n",
            "29.6%, Time left: 3.0m 22.0s\n",
            "29.84%, Time left: 3.0m 11.0s\n",
            "30.07%, Time left: 3.0m 24.0s\n",
            "30.3%, Time left: 3.0m 18.0s\n",
            "30.54%, Time left: 3.0m 4.0s\n",
            "30.77%, Time left: 3.0m 33.0s\n",
            "31.0%, Time left: 3.0m 15.0s\n",
            "31.24%, Time left: 3.0m 13.0s\n",
            "31.47%, Time left: 3.0m 20.0s\n",
            "31.7%, Time left: 3.0m 22.0s\n",
            "31.93%, Time left: 3.0m 24.0s\n",
            "32.17%, Time left: 3.0m 11.0s\n",
            "32.4%, Time left: 3.0m 2.0s\n",
            "32.63%, Time left: 3.0m 9.0s\n",
            "32.87%, Time left: 2.0m 56.0s\n",
            "33.1%, Time left: 3.0m 4.0s\n",
            "33.33%, Time left: 3.0m 6.0s\n",
            "33.57%, Time left: 2.0m 56.0s\n",
            "33.8%, Time left: 3.0m 8.0s\n",
            "34.03%, Time left: 3.0m 3.0s\n",
            "34.27%, Time left: 3.0m 1.0s\n",
            "34.5%, Time left: 3.0m 11.0s\n",
            "34.73%, Time left: 3.0m 16.0s\n",
            "34.97%, Time left: 3.0m 10.0s\n",
            "35.2%, Time left: 3.0m 3.0s\n",
            "35.43%, Time left: 3.0m 11.0s\n",
            "35.66%, Time left: 3.0m 11.0s\n",
            "35.9%, Time left: 2.0m 60.0s\n",
            "36.13%, Time left: 3.0m 34.0s\n",
            "36.36%, Time left: 3.0m 18.0s\n",
            "36.6%, Time left: 2.0m 55.0s\n",
            "36.83%, Time left: 3.0m 34.0s\n",
            "37.06%, Time left: 3.0m 32.0s\n",
            "37.3%, Time left: 2.0m 58.0s\n",
            "37.53%, Time left: 3.0m 8.0s\n",
            "37.76%, Time left: 3.0m 11.0s\n",
            "38.0%, Time left: 2.0m 53.0s\n",
            "38.23%, Time left: 3.0m 6.0s\n",
            "38.46%, Time left: 2.0m 58.0s\n",
            "38.69%, Time left: 2.0m 53.0s\n",
            "38.93%, Time left: 2.0m 54.0s\n",
            "39.16%, Time left: 2.0m 52.0s\n",
            "39.39%, Time left: 3.0m 2.0s\n",
            "39.63%, Time left: 2.0m 49.0s\n",
            "39.86%, Time left: 2.0m 53.0s\n",
            "40.09%, Time left: 2.0m 49.0s\n",
            "40.33%, Time left: 2.0m 37.0s\n",
            "40.56%, Time left: 2.0m 50.0s\n",
            "40.79%, Time left: 2.0m 50.0s\n",
            "41.03%, Time left: 2.0m 46.0s\n",
            "41.26%, Time left: 2.0m 54.0s\n",
            "41.49%, Time left: 2.0m 44.0s\n",
            "41.72%, Time left: 2.0m 49.0s\n",
            "41.96%, Time left: 2.0m 45.0s\n",
            "42.19%, Time left: 2.0m 58.0s\n",
            "42.42%, Time left: 2.0m 54.0s\n",
            "42.66%, Time left: 2.0m 38.0s\n",
            "42.89%, Time left: 2.0m 44.0s\n",
            "43.12%, Time left: 3.0m 7.0s\n",
            "43.36%, Time left: 3.0m 4.0s\n",
            "43.59%, Time left: 2.0m 57.0s\n",
            "43.82%, Time left: 3.0m 10.0s\n",
            "44.06%, Time left: 2.0m 58.0s\n",
            "44.29%, Time left: 3.0m 4.0s\n",
            "44.52%, Time left: 2.0m 41.0s\n",
            "44.76%, Time left: 2.0m 42.0s\n",
            "44.99%, Time left: 3.0m 13.0s\n",
            "45.22%, Time left: 2.0m 37.0s\n",
            "45.45%, Time left: 2.0m 46.0s\n",
            "45.69%, Time left: 2.0m 37.0s\n",
            "45.92%, Time left: 2.0m 45.0s\n",
            "46.15%, Time left: 2.0m 54.0s\n",
            "46.39%, Time left: 2.0m 48.0s\n",
            "46.62%, Time left: 2.0m 49.0s\n",
            "46.85%, Time left: 2.0m 42.0s\n",
            "47.09%, Time left: 2.0m 48.0s\n",
            "47.32%, Time left: 2.0m 34.0s\n",
            "47.55%, Time left: 2.0m 32.0s\n",
            "47.79%, Time left: 2.0m 48.0s\n",
            "48.02%, Time left: 3.0m 1.0s\n",
            "48.25%, Time left: 2.0m 53.0s\n",
            "48.48%, Time left: 3.0m 17.0s\n",
            "48.72%, Time left: 2.0m 58.0s\n",
            "48.95%, Time left: 3.0m 9.0s\n",
            "49.18%, Time left: 3.0m 19.0s\n",
            "49.42%, Time left: 3.0m 14.0s\n",
            "49.65%, Time left: 3.0m 5.0s\n",
            "49.88%, Time left: 3.0m 18.0s\n",
            "50.12%, Time left: 3.0m 10.0s\n",
            "50.35%, Time left: 2.0m 50.0s\n",
            "50.58%, Time left: 2.0m 53.0s\n",
            "50.82%, Time left: 2.0m 38.0s\n",
            "51.05%, Time left: 2.0m 37.0s\n",
            "51.28%, Time left: 2.0m 39.0s\n",
            "51.52%, Time left: 2.0m 44.0s\n",
            "51.75%, Time left: 2.0m 36.0s\n",
            "51.98%, Time left: 2.0m 28.0s\n",
            "52.21%, Time left: 2.0m 23.0s\n",
            "52.45%, Time left: 2.0m 21.0s\n",
            "52.68%, Time left: 2.0m 26.0s\n",
            "52.91%, Time left: 2.0m 35.0s\n",
            "53.15%, Time left: 2.0m 25.0s\n",
            "53.38%, Time left: 2.0m 34.0s\n",
            "53.61%, Time left: 2.0m 39.0s\n",
            "53.85%, Time left: 2.0m 21.0s\n",
            "54.08%, Time left: 2.0m 40.0s\n",
            "54.31%, Time left: 2.0m 55.0s\n",
            "54.55%, Time left: 2.0m 30.0s\n",
            "54.78%, Time left: 3.0m 4.0s\n",
            "55.01%, Time left: 2.0m 59.0s\n",
            "55.24%, Time left: 2.0m 49.0s\n",
            "55.48%, Time left: 2.0m 38.0s\n",
            "55.71%, Time left: 2.0m 37.0s\n",
            "55.94%, Time left: 2.0m 35.0s\n",
            "56.18%, Time left: 2.0m 27.0s\n",
            "56.41%, Time left: 2.0m 13.0s\n",
            "56.64%, Time left: 2.0m 11.0s\n",
            "56.88%, Time left: 2.0m 16.0s\n",
            "57.11%, Time left: 2.0m 7.0s\n",
            "57.34%, Time left: 2.0m 19.0s\n",
            "57.58%, Time left: 2.0m 16.0s\n",
            "57.81%, Time left: 2.0m 10.0s\n",
            "58.04%, Time left: 2.0m 12.0s\n",
            "58.28%, Time left: 2.0m 7.0s\n",
            "58.51%, Time left: 2.0m 7.0s\n",
            "58.74%, Time left: 2.0m 6.0s\n",
            "58.97%, Time left: 2.0m 4.0s\n",
            "59.21%, Time left: 2.0m 3.0s\n",
            "59.44%, Time left: 2.0m 17.0s\n",
            "59.67%, Time left: 2.0m 13.0s\n",
            "59.91%, Time left: 2.0m 16.0s\n",
            "60.14%, Time left: 2.0m 24.0s\n",
            "60.37%, Time left: 2.0m 19.0s\n",
            "60.61%, Time left: 2.0m 18.0s\n",
            "60.84%, Time left: 2.0m 26.0s\n",
            "61.07%, Time left: 2.0m 24.0s\n",
            "61.31%, Time left: 2.0m 10.0s\n",
            "61.54%, Time left: 2.0m 21.0s\n",
            "61.77%, Time left: 2.0m 26.0s\n",
            "62.0%, Time left: 2.0m 21.0s\n",
            "62.24%, Time left: 2.0m 3.0s\n",
            "62.47%, Time left: 2.0m 2.0s\n",
            "62.7%, Time left: 2.0m 12.0s\n",
            "62.94%, Time left: 2.0m 16.0s\n",
            "63.17%, Time left: 2.0m 5.0s\n",
            "63.4%, Time left: 2.0m 7.0s\n",
            "63.64%, Time left: 2.0m 8.0s\n",
            "63.87%, Time left: 2.0m 14.0s\n",
            "64.1%, Time left: 2.0m 26.0s\n",
            "64.34%, Time left: 2.0m 3.0s\n",
            "64.57%, Time left: 2.0m 18.0s\n",
            "64.8%, Time left: 1.0m 57.0s\n",
            "65.03%, Time left: 2.0m 15.0s\n",
            "65.27%, Time left: 2.0m 27.0s\n",
            "65.5%, Time left: 2.0m 20.0s\n",
            "65.73%, Time left: 2.0m 12.0s\n",
            "65.97%, Time left: 2.0m 5.0s\n",
            "66.2%, Time left: 2.0m 13.0s\n",
            "66.43%, Time left: 2.0m 2.0s\n",
            "66.67%, Time left: 1.0m 59.0s\n",
            "66.9%, Time left: 2.0m 8.0s\n",
            "67.13%, Time left: 2.0m 7.0s\n",
            "67.37%, Time left: 1.0m 58.0s\n",
            "67.6%, Time left: 2.0m 32.0s\n",
            "67.83%, Time left: 3.0m 39.0s\n",
            "68.07%, Time left: 2.0m 29.0s\n",
            "68.3%, Time left: 1.0m 54.0s\n",
            "68.53%, Time left: 2.0m 3.0s\n",
            "68.76%, Time left: 1.0m 51.0s\n",
            "69.0%, Time left: 1.0m 34.0s\n",
            "69.23%, Time left: 1.0m 32.0s\n",
            "69.46%, Time left: 2.0m 18.0s\n",
            "69.7%, Time left: 1.0m 29.0s\n",
            "69.93%, Time left: 1.0m 39.0s\n",
            "70.16%, Time left: 1.0m 44.0s\n",
            "70.4%, Time left: 1.0m 37.0s\n",
            "70.63%, Time left: 1.0m 44.0s\n",
            "70.86%, Time left: 1.0m 47.0s\n",
            "71.1%, Time left: 1.0m 34.0s\n",
            "71.33%, Time left: 1.0m 39.0s\n",
            "71.56%, Time left: 1.0m 37.0s\n",
            "71.79%, Time left: 1.0m 39.0s\n",
            "72.03%, Time left: 1.0m 29.0s\n",
            "72.26%, Time left: 1.0m 35.0s\n",
            "72.49%, Time left: 1.0m 27.0s\n",
            "72.73%, Time left: 1.0m 31.0s\n",
            "72.96%, Time left: 1.0m 26.0s\n",
            "73.19%, Time left: 1.0m 16.0s\n",
            "73.43%, Time left: 1.0m 15.0s\n",
            "73.66%, Time left: 1.0m 28.0s\n",
            "73.89%, Time left: 1.0m 24.0s\n",
            "74.13%, Time left: 1.0m 14.0s\n",
            "74.36%, Time left: 1.0m 14.0s\n",
            "74.59%, Time left: 1.0m 15.0s\n",
            "74.83%, Time left: 1.0m 15.0s\n",
            "75.06%, Time left: 1.0m 14.0s\n",
            "75.29%, Time left: 1.0m 13.0s\n",
            "75.52%, Time left: 1.0m 13.0s\n",
            "75.76%, Time left: 1.0m 16.0s\n",
            "75.99%, Time left: 1.0m 19.0s\n",
            "76.22%, Time left: 1.0m 11.0s\n",
            "76.46%, Time left: 1.0m 10.0s\n",
            "76.69%, Time left: 1.0m 14.0s\n",
            "76.92%, Time left: 1.0m 22.0s\n",
            "77.16%, Time left: 1.0m 14.0s\n",
            "77.39%, Time left: 1.0m 23.0s\n",
            "77.62%, Time left: 1.0m 16.0s\n",
            "77.86%, Time left: 1.0m 11.0s\n",
            "78.09%, Time left: 1.0m 9.0s\n",
            "78.32%, Time left: 1.0m 18.0s\n",
            "78.55%, Time left: 1.0m 17.0s\n",
            "78.79%, Time left: 1.0m 9.0s\n",
            "79.02%, Time left: 1.0m 3.0s\n",
            "79.25%, Time left: 1.0m 8.0s\n",
            "79.49%, Time left: 60.0s\n",
            "79.72%, Time left: 1.0m 6.0s\n",
            "79.95%, Time left: 1.0m 5.0s\n",
            "80.19%, Time left: 1.0m 5.0s\n",
            "80.42%, Time left: 1.0m 3.0s\n",
            "80.65%, Time left: 1.0m 1.0s\n",
            "80.89%, Time left: 55.0s\n",
            "81.12%, Time left: 58.0s\n",
            "81.35%, Time left: 54.0s\n",
            "81.59%, Time left: 56.0s\n",
            "81.82%, Time left: 60.0s\n",
            "82.05%, Time left: 1.0m 0.0s\n",
            "82.28%, Time left: 55.0s\n",
            "82.52%, Time left: 1.0m 31.0s\n",
            "82.75%, Time left: 60.0s\n",
            "82.98%, Time left: 58.0s\n",
            "83.22%, Time left: 1.0m 0.0s\n",
            "83.45%, Time left: 53.0s\n",
            "83.68%, Time left: 53.0s\n",
            "83.92%, Time left: 50.0s\n",
            "84.15%, Time left: 55.0s\n",
            "84.38%, Time left: 49.0s\n",
            "84.62%, Time left: 51.0s\n",
            "84.85%, Time left: 50.0s\n",
            "85.08%, Time left: 52.0s\n",
            "85.31%, Time left: 46.0s\n",
            "85.55%, Time left: 40.0s\n",
            "85.78%, Time left: 43.0s\n",
            "86.01%, Time left: 43.0s\n",
            "86.25%, Time left: 41.0s\n",
            "86.48%, Time left: 43.0s\n",
            "86.71%, Time left: 39.0s\n",
            "86.95%, Time left: 39.0s\n",
            "87.18%, Time left: 37.0s\n",
            "87.41%, Time left: 42.0s\n",
            "87.65%, Time left: 40.0s\n",
            "87.88%, Time left: 35.0s\n",
            "88.11%, Time left: 39.0s\n",
            "88.34%, Time left: 46.0s\n",
            "88.58%, Time left: 40.0s\n",
            "88.81%, Time left: 44.0s\n",
            "89.04%, Time left: 39.0s\n",
            "89.28%, Time left: 36.0s\n",
            "89.51%, Time left: 4.0m 53.0s\n",
            "89.74%, Time left: 32.0s\n",
            "89.98%, Time left: 32.0s\n",
            "90.21%, Time left: 30.0s\n",
            "90.44%, Time left: 28.0s\n",
            "90.68%, Time left: 28.0s\n",
            "90.91%, Time left: 30.0s\n",
            "91.14%, Time left: 30.0s\n",
            "91.38%, Time left: 25.0s\n",
            "91.61%, Time left: 26.0s\n",
            "91.84%, Time left: 27.0s\n",
            "92.07%, Time left: 32.0s\n",
            "92.31%, Time left: 26.0s\n",
            "92.54%, Time left: 25.0s\n",
            "92.77%, Time left: 27.0s\n",
            "93.01%, Time left: 26.0s\n",
            "93.24%, Time left: 26.0s\n",
            "93.47%, Time left: 24.0s\n",
            "93.71%, Time left: 23.0s\n",
            "93.94%, Time left: 20.0s\n",
            "94.17%, Time left: 20.0s\n",
            "94.41%, Time left: 16.0s\n",
            "94.64%, Time left: 16.0s\n",
            "94.87%, Time left: 16.0s\n",
            "95.1%, Time left: 15.0s\n",
            "95.34%, Time left: 15.0s\n",
            "95.57%, Time left: 14.0s\n",
            "95.8%, Time left: 13.0s\n",
            "96.04%, Time left: 12.0s\n",
            "96.27%, Time left: 12.0s\n",
            "96.5%, Time left: 11.0s\n",
            "96.74%, Time left: 11.0s\n",
            "96.97%, Time left: 10.0s\n",
            "97.2%, Time left: 9.0s\n",
            "97.44%, Time left: 9.0s\n",
            "97.67%, Time left: 9.0s\n",
            "97.9%, Time left: 8.0s\n",
            "98.14%, Time left: 7.0s\n",
            "98.37%, Time left: 6.0s\n",
            "98.6%, Time left: 5.0s\n",
            "98.83%, Time left: 5.0s\n",
            "99.07%, Time left: 3.0s\n",
            "99.3%, Time left: 2.0s\n",
            "99.53%, Time left: 2.0s\n",
            "99.77%, Time left: 1.0s\n",
            "Completed\n"
          ]
        }
      ],
      "source": [
        "print('Calculating distance matrix...')\n",
        "\n",
        "# For showing progress\n",
        "prevPercent = 0\n",
        "\n",
        "distances = []\n",
        "for rowIdx in range(len(sequences)):\n",
        "  startTime = time.time()\n",
        "  distances.append([])\n",
        "  \n",
        "  for colIdx in range(len(sequences)):\n",
        "    if(sequences[rowIdx].seq == sequences[colIdx].seq):\n",
        "      distances[rowIdx].append(0)\n",
        "    else:\n",
        "      distance = pairwise2.align.globalms(sequences[rowIdx].seq, sequences[colIdx].seq, 2, penalty_notEqual, penalty_space, penalty_space)\n",
        "      distances[rowIdx].append(distance[0].score)\n",
        "\n",
        "  # region For showing progress\n",
        "  p = round(rowIdx * 100 / len(sequences), 2)\n",
        "  if(p != prevPercent):\n",
        "    secondsLeft = (100 - p) * (time.time() - startTime) / (p - prevPercent)\n",
        "\n",
        "    if(secondsLeft > 3600): # Hours\n",
        "      hours = (secondsLeft - (secondsLeft % 3600)) / 3600\n",
        "      secondsLeft = secondsLeft - hours * 3600\n",
        "\n",
        "      minutes = (secondsLeft - (secondsLeft % 60)) / 60\n",
        "      secondsLeft = secondsLeft - minutes * 60\n",
        "\n",
        "      timeLeft = '{}h {}m {}s'.format(hours, minutes, round(secondsLeft, 0))\n",
        "    elif(secondsLeft > 60): # Minutes only\n",
        "      minutes = (secondsLeft - (secondsLeft % 60)) / 60\n",
        "      secondsLeft = secondsLeft - minutes * 60\n",
        "      timeLeft = '{}m {}s'.format(minutes, round(secondsLeft, 0))\n",
        "    else: # Seconds only\n",
        "      timeLeft = '{}s'.format(round(secondsLeft, 0))\n",
        "\n",
        "    prevPercent = p\n",
        "    print('{}%, Time left: {}'.format(p, timeLeft))\n",
        "  # endregion\n",
        "\n",
        "print('Completed')"
      ]
    },
    {
      "cell_type": "code",
      "execution_count": 20,
      "metadata": {
        "colab": {
          "base_uri": "https://localhost:8080/"
        },
        "id": "CjRjHhDrKnT6",
        "outputId": "6ae1c863-5064-4fcf-9d28-a2899edb9263"
      },
      "outputs": [
        {
          "output_type": "stream",
          "name": "stdout",
          "text": [
            "Calculating average distance values...\n"
          ]
        }
      ],
      "source": [
        "print('Calculating average distance values...')\n",
        "\n",
        "averages = []\n",
        "\n",
        "for rowIdx in range(len(distances)):\n",
        "  average = 0\n",
        "\n",
        "  for colIdx in range(len(distances[rowIdx])):\n",
        "    average += distances[rowIdx][colIdx]\n",
        "\n",
        "  # if(average <= 0):\n",
        "  #   raise Exception('Distance average value is negative: {}'.format(average))\n",
        "\n",
        "  average /= len(distances[rowIdx])\n",
        "  averages.append(average)\n",
        "\n",
        "  sequences[rowIdx].distance = average"
      ]
    },
    {
      "cell_type": "markdown",
      "source": [
        "# Finding filtration line (Y - axis)"
      ],
      "metadata": {
        "id": "Md-eXDx1mD8_"
      }
    },
    {
      "cell_type": "code",
      "source": [
        "sortedSequences = sorted(sequences, key=lambda x: x.distance)\n",
        "filteredSequences = []\n",
        "\n",
        "for i in range(sequences_size_const):\n",
        "  filteredSequences.append(sortedSequences[i])\n",
        "\n",
        "y_filter_line = sequences[sequences_size_const + 1].distance"
      ],
      "metadata": {
        "id": "YsbOUOR5mDI8"
      },
      "execution_count": 21,
      "outputs": []
    },
    {
      "cell_type": "markdown",
      "source": [
        "# Saving results to a file"
      ],
      "metadata": {
        "id": "G9-TgBSfrYW_"
      }
    },
    {
      "cell_type": "code",
      "source": [
        "print('Writing distances to file...')\n",
        "\n",
        "with open('distances.ddf', 'w') as file:\n",
        "  file.write(str(y_filter_line) + '-')\n",
        "  for value in averages:\n",
        "    file.write(str(value) + ', ')"
      ],
      "metadata": {
        "colab": {
          "base_uri": "https://localhost:8080/"
        },
        "id": "cFIS5rHgkl-G",
        "outputId": "19f0035d-ae2c-4c29-a898-18abdd6c6893"
      },
      "execution_count": 22,
      "outputs": [
        {
          "output_type": "stream",
          "name": "stdout",
          "text": [
            "Writing distances to file...\n"
          ]
        }
      ]
    },
    {
      "cell_type": "markdown",
      "source": [
        "# Drawing distance values\n",
        "X axis - sequences, Y - average distance from other sequences"
      ],
      "metadata": {
        "id": "pbn9FCs4lB64"
      }
    },
    {
      "cell_type": "code",
      "source": [
        "!pip install matplotlib"
      ],
      "metadata": {
        "colab": {
          "base_uri": "https://localhost:8080/"
        },
        "id": "KIV67No0k9fu",
        "outputId": "a49a08bf-d4bc-415c-9d1a-84603ded6d41"
      },
      "execution_count": 23,
      "outputs": [
        {
          "output_type": "stream",
          "name": "stdout",
          "text": [
            "Looking in indexes: https://pypi.org/simple, https://us-python.pkg.dev/colab-wheels/public/simple/\n",
            "Requirement already satisfied: matplotlib in /usr/local/lib/python3.8/dist-packages (3.2.2)\n",
            "Requirement already satisfied: kiwisolver>=1.0.1 in /usr/local/lib/python3.8/dist-packages (from matplotlib) (1.4.4)\n",
            "Requirement already satisfied: python-dateutil>=2.1 in /usr/local/lib/python3.8/dist-packages (from matplotlib) (2.8.2)\n",
            "Requirement already satisfied: pyparsing!=2.0.4,!=2.1.2,!=2.1.6,>=2.0.1 in /usr/local/lib/python3.8/dist-packages (from matplotlib) (3.0.9)\n",
            "Requirement already satisfied: numpy>=1.11 in /usr/local/lib/python3.8/dist-packages (from matplotlib) (1.21.6)\n",
            "Requirement already satisfied: cycler>=0.10 in /usr/local/lib/python3.8/dist-packages (from matplotlib) (0.11.0)\n",
            "Requirement already satisfied: six>=1.5 in /usr/local/lib/python3.8/dist-packages (from python-dateutil>=2.1->matplotlib) (1.15.0)\n"
          ]
        }
      ]
    },
    {
      "cell_type": "code",
      "source": [
        "import matplotlib.pyplot as plt\n",
        "\n",
        "plt.plot(np.arange(0, len(averages)), averages, label = 'Distances')\n",
        "plt.plot(np.arange(0, len(averages)), np.repeat(y_filter_line, len(averages)), label = 'Sorting line')\n",
        "plt.show()"
      ],
      "metadata": {
        "colab": {
          "base_uri": "https://localhost:8080/",
          "height": 265
        },
        "id": "Zot05wd1lPLM",
        "outputId": "315375f3-b91c-490e-e9b8-70875f0dccfa"
      },
      "execution_count": 24,
      "outputs": [
        {
          "output_type": "display_data",
          "data": {
            "text/plain": [
              "<Figure size 432x288 with 1 Axes>"
            ],
            "image/png": "[encoded data removed]"
          },
          "metadata": {
            "needs_background": "light"
          }
        }
      ]
    },
    {
      "cell_type": "markdown",
      "source": [
        "# Creating new custom a3m file"
      ],
      "metadata": {
        "id": "JBOgP9W54E8k"
      }
    },
    {
      "cell_type": "code",
      "source": [
        "fileName = config.get('testCases', testCaseName).split('/').pop()\n",
        "customFileName = fileName.split('.')[0] + '.custom.' + fileName.split('.')[1]\n",
        "\n",
        "with open(customFileName, 'w') as file:\n",
        "  for i in range(len(sequences)):\n",
        "    if(sequences[i].distance >= y_filter_line):\n",
        "      file.write(sequences[i].name + '\\n')\n",
        "      file.write(sequences[i].seq + '\\n')"
      ],
      "metadata": {
        "id": "Hp9DeLNv4lhf"
      },
      "execution_count": 26,
      "outputs": []
    }
  ],
  "metadata": {
    "colab": {
      "provenance": []
    },
    "kernelspec": {
      "display_name": "Python 3",
      "name": "python3"
    },
    "language_info": {
      "name": "python"
    }
  },
  "nbformat": 4,
  "nbformat_minor": 0
}