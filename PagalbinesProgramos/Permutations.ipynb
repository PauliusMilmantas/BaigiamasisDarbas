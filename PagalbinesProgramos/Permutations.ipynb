{
  "nbformat": 4,
  "nbformat_minor": 0,
  "metadata": {
    "colab": {
      "provenance": []
    },
    "kernelspec": {
      "name": "python3",
      "display_name": "Python 3"
    },
    "language_info": {
      "name": "python"
    }
  },
  "cells": [
    {
      "cell_type": "code",
      "source": [
        "import random\n",
        "import os"
      ],
      "metadata": {
        "id": "HRPQ5a8mty3H"
      },
      "execution_count": 1,
      "outputs": []
    },
    {
      "cell_type": "code",
      "execution_count": 2,
      "metadata": {
        "colab": {
          "base_uri": "https://localhost:8080/"
        },
        "id": "mHoapo8wrX4O",
        "outputId": "c2757350-1330-42be-ce25-65daf30191d0"
      },
      "outputs": [
        {
          "output_type": "stream",
          "name": "stdout",
          "text": [
            "Cloning into 'ProteinFolding'...\n",
            "remote: Enumerating objects: 43, done.\u001b[K\n",
            "remote: Counting objects: 100% (43/43), done.\u001b[K\n",
            "remote: Compressing objects: 100% (33/33), done.\u001b[K\n",
            "remote: Total 43 (delta 10), reused 37 (delta 7), pack-reused 0\u001b[K\n",
            "Unpacking objects: 100% (43/43), 556.45 KiB | 2.80 MiB/s, done.\n"
          ]
        }
      ],
      "source": [
        "!git clone https://github.com/PauliusMilmantas/ProteinFolding"
      ]
    },
    {
      "cell_type": "code",
      "source": [
        "hydrophobic = dict({\n",
        "    \"K\": 5.72,\n",
        "    \"N\": 6.17,\n",
        "    \"D\": 6.18,\n",
        "    \"E\": 6.38,\n",
        "    \"P\": 6.64,\n",
        "    \"Q\": 6.67,\n",
        "    \"R\": 6.81,\n",
        "    \"S\": 6.93,\n",
        "    \"T\": 7.08,\n",
        "    \"G\": 7.31,\n",
        "    \"A\": 7.62,\n",
        "    \"H\": 7.85,\n",
        "    \"W\": 8.41,\n",
        "    \"Y\": 8.53,\n",
        "    \"F\": 8.99,\n",
        "    \"L\": 9.37,\n",
        "    \"M\": 9.83,\n",
        "    \"I\": 9.99,\n",
        "    \"V\": 10.38,\n",
        "    \"C\": 10.93,\n",
        "    \"-\": 0,\n",
        "    \"X\": 0\n",
        "})\n",
        "\n",
        "def transformHydro(seq):\n",
        "  sum = 0\n",
        "  for el in seq:\n",
        "    v = hydrophobic.get(el)\n",
        "    if v is not None:\n",
        "      sum += float(v)\n",
        "  \n",
        "  return sum"
      ],
      "metadata": {
        "id": "liAeyxlythfP"
      },
      "execution_count": 3,
      "outputs": []
    },
    {
      "cell_type": "code",
      "source": [
        "class Sequence:\n",
        "  def __init__(self, seq, desc):\n",
        "    self.seq = seq\n",
        "    self.desc = desc"
      ],
      "metadata": {
        "id": "07j8ZrdYsl3H"
      },
      "execution_count": 4,
      "outputs": []
    },
    {
      "cell_type": "code",
      "source": [
        "with open('/content/ProteinFolding/TestCases/test_fb11d.a3m') as f:\n",
        "    lines = f.readlines()\n",
        "\n",
        "header = lines[0]\n",
        "sequences = []\n",
        "\n",
        "desc = ''\n",
        "skippedFirstLine = False\n",
        "for line in lines:\n",
        "  if(skippedFirstLine):\n",
        "    if(desc == ''):\n",
        "      desc = line\n",
        "    else:\n",
        "      sequences.append(\n",
        "          Sequence(line, desc)\n",
        "      )\n",
        "      desc = ''\n",
        "  else:\n",
        "    skippedFirstLine = True\n",
        "\n",
        "print('Loaded {} sequences out of {} lines'.format(len(sequences), len(lines) - 1))"
      ],
      "metadata": {
        "colab": {
          "base_uri": "https://localhost:8080/"
        },
        "id": "sX_8y4cprqVl",
        "outputId": "094d7e18-ae03-4a9d-f767-f13092b6e9c5"
      },
      "execution_count": 5,
      "outputs": [
        {
          "output_type": "stream",
          "name": "stdout",
          "text": [
            "Loaded 111 sequences out of 222 lines\n"
          ]
        }
      ]
    },
    {
      "cell_type": "code",
      "source": [
        "tmp = []\n",
        "sequencesImportant = ['>101\\t102\\t103\\n', '>101\\n', '>10\\n', '>103\\n']\n",
        "for seq in sequences:\n",
        "  if(seq.desc not in sequencesImportant):\n",
        "    tmp.append(seq)\n",
        "\n",
        "sequences = tmp"
      ],
      "metadata": {
        "id": "poW9cwfnoEAL"
      },
      "execution_count": 6,
      "outputs": []
    },
    {
      "cell_type": "code",
      "source": [
        "criticalSequencesHead = [\n",
        "    Sequence('PIAQIHILEGRSDEQKETLIREVSEAISRSLDAPLTSVRVIITEMAKGHFGIGGELASK---------------------------------------------------------------------------\\n', '>101\\n'),\n",
        "    Sequence('PIAQIHILEGRSDEQKETLIREVSEAISRSLDAPLTSVRVIITEMAKGHFGIGGELASK---------------------------------------------------------------------------\\n', '>101\\n'),\n",
        "    Sequence('PIAQIHILEGRSDEQKETLIREVSEAISRSLDAPLTSVRVIITEMAKGHFGIGGELASKAIAQIHICGRSDEQLCGRSDEQKETLIREGHFGIGGELASKAIAQIHILCGRSDEQKETLIREGHFGIGGELASK\\n', '>101\\t102\\t103\\n')\n",
        "]\n",
        "\n",
        "criticalSequencesTail = [\n",
        "    Sequence('----------------------------------------------------------------------------------------------------AIAQIHILCGRSDEQKETLIREGHFGIGGELASK\\n', '>103\\n'),\n",
        "    Sequence('----------------------------------------------------------------------------------------------------AIAQIHILCGRSDEQKETLIREGHFGIGGELASK\\n', '>103\\n'),\n",
        "    Sequence('-----------------------------------------------------------AIAQIHICGRSDEQLCGRSDEQKETLIREGHFGIGGELASK----------------------------------\\n', '>102\\n'),\n",
        "    Sequence('-----------------------------------------------------------AIAQIHICGRSDEQLCGRSDEQKETLIREGHFGIGGELASK----------------------------------\\n', '>102\\n')\n",
        "]"
      ],
      "metadata": {
        "id": "LXFRodjbouEW"
      },
      "execution_count": 7,
      "outputs": []
    },
    {
      "cell_type": "code",
      "source": [
        "number_of_samples = 10\n",
        "\n",
        "for epoch in range(number_of_samples):\n",
        "  reorderedSequences = []\n",
        "  seqOrder = random.sample(range(len(sequences)), len(sequences))\n",
        "\n",
        "  # Reordering requences\n",
        "  for i in seqOrder:\n",
        "    reorderedSequences.append(\n",
        "        sequences[i]\n",
        "    )\n",
        "\n",
        "  # Adding critical sequences in their hardcoded order\n",
        "  for s in criticalSequencesHead:\n",
        "    reorderedSequences.insert(0, s)\n",
        "\n",
        "  for s in criticalSequencesTail:\n",
        "    reorderedSequences.append(s)\n",
        "\n",
        "  # Creating dir\n",
        "  os.makedirs('/content/stats/{}'.format(epoch))\n",
        "\n",
        "  # Writing statistics\n",
        "  statisticsFile = open('/content/stats/{}/stats.csv'.format(epoch), 'w')\n",
        "\n",
        "  for idx, s in enumerate(reorderedSequences):\n",
        "    statisticsFile.write('{};{};{};{};\\n'.format(idx, s.desc.replace('\\n', ''), s.seq.replace('\\n', ''), str(transformHydro(s.seq))))\n",
        "\n",
        "  # A3M output\n",
        "  resultFile = open('/content/stats/{}/test_fb11d.a3m'.format(epoch), 'w')\n",
        "\n",
        "  resultFile.write(header)\n",
        "\n",
        "  for seq in reorderedSequences:\n",
        "    resultFile.write(seq.desc)\n",
        "    resultFile.write(seq.seq)"
      ],
      "metadata": {
        "id": "f8HwJa62tphh"
      },
      "execution_count": 8,
      "outputs": []
    },
    {
      "cell_type": "code",
      "source": [
        "!zip -r /content/stats.zip /content/stats"
      ],
      "metadata": {
        "colab": {
          "base_uri": "https://localhost:8080/"
        },
        "id": "-ye4Aiift_zm",
        "outputId": "e9a59b9c-06ee-42b6-937d-b5aff84bc3b1"
      },
      "execution_count": 9,
      "outputs": [
        {
          "output_type": "stream",
          "name": "stdout",
          "text": [
            "  adding: content/stats/ (stored 0%)\n",
            "  adding: content/stats/4/ (stored 0%)\n",
            "  adding: content/stats/4/stats.csv (deflated 70%)\n",
            "  adding: content/stats/4/test_fb11d.a3m (deflated 71%)\n",
            "  adding: content/stats/6/ (stored 0%)\n",
            "  adding: content/stats/6/stats.csv (deflated 70%)\n",
            "  adding: content/stats/6/test_fb11d.a3m (deflated 71%)\n",
            "  adding: content/stats/9/ (stored 0%)\n",
            "  adding: content/stats/9/stats.csv (deflated 69%)\n",
            "  adding: content/stats/9/test_fb11d.a3m (deflated 69%)\n",
            "  adding: content/stats/2/ (stored 0%)\n",
            "  adding: content/stats/2/stats.csv (deflated 70%)\n",
            "  adding: content/stats/2/test_fb11d.a3m (deflated 71%)\n",
            "  adding: content/stats/8/ (stored 0%)\n",
            "  adding: content/stats/8/stats.csv (deflated 70%)\n",
            "  adding: content/stats/8/test_fb11d.a3m (deflated 71%)\n",
            "  adding: content/stats/7/ (stored 0%)\n",
            "  adding: content/stats/7/stats.csv (deflated 70%)\n",
            "  adding: content/stats/7/test_fb11d.a3m (deflated 71%)\n",
            "  adding: content/stats/3/ (stored 0%)\n",
            "  adding: content/stats/3/stats.csv (deflated 70%)\n",
            "  adding: content/stats/3/test_fb11d.a3m (deflated 71%)\n",
            "  adding: content/stats/5/ (stored 0%)\n",
            "  adding: content/stats/5/stats.csv (deflated 70%)\n",
            "  adding: content/stats/5/test_fb11d.a3m (deflated 71%)\n",
            "  adding: content/stats/1/ (stored 0%)\n",
            "  adding: content/stats/1/stats.csv (deflated 70%)\n",
            "  adding: content/stats/1/test_fb11d.a3m (deflated 71%)\n",
            "  adding: content/stats/0/ (stored 0%)\n",
            "  adding: content/stats/0/stats.csv (deflated 70%)\n",
            "  adding: content/stats/0/test_fb11d.a3m (deflated 71%)\n"
          ]
        }
      ]
    }
  ]
}