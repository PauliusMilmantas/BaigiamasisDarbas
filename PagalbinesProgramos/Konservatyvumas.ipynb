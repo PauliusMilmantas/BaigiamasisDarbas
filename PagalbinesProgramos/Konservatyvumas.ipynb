{
  "nbformat": 4,
  "nbformat_minor": 0,
  "metadata": {
    "colab": {
      "provenance": []
    },
    "kernelspec": {
      "name": "python3",
      "display_name": "Python 3"
    },
    "language_info": {
      "name": "python"
    }
  },
  "cells": [
    {
      "cell_type": "code",
      "execution_count": null,
      "metadata": {
        "id": "kHKsvpFuzydw"
      },
      "outputs": [],
      "source": [
        "!git clone https://github.com/PauliusMilmantas/ProteinFolding.git"
      ]
    },
    {
      "cell_type": "code",
      "source": [
        "!pip install biopython"
      ],
      "metadata": {
        "id": "B2tB5rjm03O7"
      },
      "execution_count": null,
      "outputs": []
    },
    {
      "cell_type": "markdown",
      "source": [
        "# Calculate conservatism"
      ],
      "metadata": {
        "id": "wskiwVuk8zsO"
      }
    },
    {
      "cell_type": "markdown",
      "source": [
        "Trim sequences to have the same length."
      ],
      "metadata": {
        "id": "HICpq0DUHy8j"
      }
    },
    {
      "cell_type": "code",
      "source": [
        "from Bio.SeqRecord import SeqRecord\n",
        "from Bio.Seq import Seq\n",
        "from Bio.Align import MultipleSeqAlignment\n",
        "\n",
        "a3m_file = \"/content/ProteinFolding/TestCases/test_fb11d.a3m\"\n",
        "\n",
        "# Initialize an empty list to store SeqRecord objects\n",
        "seq_records = []\n",
        "\n",
        "# Read the A3M file line by line and create SeqRecord objects\n",
        "with open(a3m_file, \"r\") as f:\n",
        "    sequence = \"\"\n",
        "    for line in f:\n",
        "        line = line.strip()\n",
        "        if line.startswith(\">\"):\n",
        "            # Start a new sequence record\n",
        "            if sequence:\n",
        "                seq = Seq(sequence)\n",
        "                seq_record = SeqRecord(seq)\n",
        "                seq_records.append(seq_record)\n",
        "            sequence = \"\"\n",
        "        else:\n",
        "            # Append the sequence line to the current sequence\n",
        "            sequence += line\n",
        "\n",
        "# Add the last sequence\n",
        "if sequence:\n",
        "    seq = Seq(sequence)\n",
        "    seq_record = SeqRecord(seq)\n",
        "    seq_records.append(seq_record)\n",
        "\n",
        "\n",
        "minLength = 1000\n",
        "for record in seq_records:\n",
        "  if len(record.seq) < minLength:\n",
        "    minLength = len(record.seq)\n",
        "\n",
        "for record in seq_records:\n",
        "  record.seq = record.seq[:minLength]\n",
        "\n",
        "# Create a MultipleSeqAlignment object from the SeqRecord objects\n",
        "alignment = MultipleSeqAlignment(seq_records)\n",
        "\n",
        "# Now, 'alignment' contains the MSA with variable-length sequences.\n",
        "\n",
        "# You can proceed to calculate conservation scores as shown in the previous examples.\n"
      ],
      "metadata": {
        "id": "xeSSkK_PGZWm"
      },
      "execution_count": 16,
      "outputs": []
    },
    {
      "cell_type": "markdown",
      "source": [
        "Calculate conservatism for each column"
      ],
      "metadata": {
        "id": "CodWDQbZH3FE"
      }
    },
    {
      "cell_type": "code",
      "source": [
        "from collections import Counter\n",
        "\n",
        "def calculate_conservation_score(column):\n",
        "    # Calculate a simple conservation score based on the most frequent amino acid\n",
        "    aa_counts = Counter(column)\n",
        "    max_count = max(aa_counts.values())\n",
        "    total_count = len(column)\n",
        "    conservation_score = max_count / total_count\n",
        "    return conservation_score\n",
        "\n",
        "# Step 2: Calculate the conservation score for each position in the MSA\n",
        "def calculate_conservation(msa):\n",
        "    conservation_scores = []\n",
        "\n",
        "    # Iterate over each position in the alignment\n",
        "    for i in range(msa.get_alignment_length()):\n",
        "        column = msa[:, i]  # Get the column (amino acids) at position i\n",
        "        conservation_score = calculate_conservation_score(column)\n",
        "        conservation_scores.append(conservation_score)\n",
        "\n",
        "    return conservation_scores\n",
        "\n",
        "# Calculate conservation scores for the MSA\n",
        "conservation_scores = calculate_conservation(alignment)\n",
        "\n",
        "# Now, 'conservation_scores' contains the conservation scores for each position in the MSA.\n",
        "\n",
        "# You can use these scores for further analysis or visualization.\n",
        "\n",
        "# For example, you can print the conservation scores for each position:\n",
        "for i, score in enumerate(conservation_scores):\n",
        "    print(f\"Position {i+1}: {score}\")"
      ],
      "metadata": {
        "colab": {
          "base_uri": "https://localhost:8080/"
        },
        "id": "BdHfCnmFHZ4k",
        "outputId": "2b5957ef-dee3-4b7d-af6c-45ce2888613e"
      },
      "execution_count": 14,
      "outputs": [
        {
          "output_type": "stream",
          "name": "stdout",
          "text": [
            "Position 1: 0.8660714285714286\n",
            "Position 2: 0.2857142857142857\n",
            "Position 3: 0.39285714285714285\n",
            "Position 4: 0.22321428571428573\n",
            "Position 5: 0.48214285714285715\n",
            "Position 6: 0.15178571428571427\n",
            "Position 7: 0.30357142857142855\n",
            "Position 8: 0.26785714285714285\n",
            "Position 9: 0.4375\n",
            "Position 10: 0.7321428571428571\n",
            "Position 11: 0.5803571428571429\n",
            "Position 12: 0.32142857142857145\n",
            "Position 13: 0.15178571428571427\n",
            "Position 14: 0.5267857142857143\n",
            "Position 15: 0.5267857142857143\n"
          ]
        }
      ]
    },
    {
      "cell_type": "markdown",
      "source": [
        "# Visualize"
      ],
      "metadata": {
        "id": "kBElIUlaJPdX"
      }
    },
    {
      "cell_type": "code",
      "source": [
        "!pip install matplotlib"
      ],
      "metadata": {
        "colab": {
          "base_uri": "https://localhost:8080/"
        },
        "id": "gUji1XlYJG6A",
        "outputId": "8a8f12be-21d1-4d72-e85d-803a1f5a4aa0"
      },
      "execution_count": 20,
      "outputs": [
        {
          "output_type": "stream",
          "name": "stdout",
          "text": [
            "Requirement already satisfied: matplotlib in /usr/local/lib/python3.10/dist-packages (3.7.1)\n",
            "Requirement already satisfied: contourpy>=1.0.1 in /usr/local/lib/python3.10/dist-packages (from matplotlib) (1.1.1)\n",
            "Requirement already satisfied: cycler>=0.10 in /usr/local/lib/python3.10/dist-packages (from matplotlib) (0.12.0)\n",
            "Requirement already satisfied: fonttools>=4.22.0 in /usr/local/lib/python3.10/dist-packages (from matplotlib) (4.43.0)\n",
            "Requirement already satisfied: kiwisolver>=1.0.1 in /usr/local/lib/python3.10/dist-packages (from matplotlib) (1.4.5)\n",
            "Requirement already satisfied: numpy>=1.20 in /usr/local/lib/python3.10/dist-packages (from matplotlib) (1.23.5)\n",
            "Requirement already satisfied: packaging>=20.0 in /usr/local/lib/python3.10/dist-packages (from matplotlib) (23.2)\n",
            "Requirement already satisfied: pillow>=6.2.0 in /usr/local/lib/python3.10/dist-packages (from matplotlib) (9.4.0)\n",
            "Requirement already satisfied: pyparsing>=2.3.1 in /usr/local/lib/python3.10/dist-packages (from matplotlib) (3.1.1)\n",
            "Requirement already satisfied: python-dateutil>=2.7 in /usr/local/lib/python3.10/dist-packages (from matplotlib) (2.8.2)\n",
            "Requirement already satisfied: six>=1.5 in /usr/local/lib/python3.10/dist-packages (from python-dateutil>=2.7->matplotlib) (1.16.0)\n"
          ]
        }
      ]
    },
    {
      "cell_type": "code",
      "source": [
        "import numpy as np\n",
        "import matplotlib.pyplot as plt\n",
        "\n",
        "plt.bar(np.arange(0, len(conservation_scores)), conservation_scores)\n",
        "plt.show()"
      ],
      "metadata": {
        "colab": {
          "base_uri": "https://localhost:8080/",
          "height": 430
        },
        "id": "IU_DPXTDJSLH",
        "outputId": "305619e3-4b54-472b-cd54-2f688121f51e"
      },
      "execution_count": 29,
      "outputs": [
        {
          "output_type": "display_data",
          "data": {
            "text/plain": [
              "<Figure size 640x480 with 1 Axes>"
            ],
            "image/png": "[encoded data removed]"
          },
          "metadata": {}
        }
      ]
    }
  ]
}